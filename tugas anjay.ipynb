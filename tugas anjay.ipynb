{
 "cells": [
  {
   "cell_type": "code",
   "execution_count": 17,
   "id": "590d57d8-a396-45fc-a78b-c686428491eb",
   "metadata": {},
   "outputs": [
    {
     "name": "stdout",
     "output_type": "stream",
     "text": [
      "total uang saku yang di berikan dalam satu minggu adalah: $115\n"
     ]
    }
   ],
   "source": [
    "usia_anak = [8, 12, 9, 16, 14,16, 4, 10]\n",
    "total_uang = 0\n",
    "\n",
    "for usia in usia_anak :\n",
    "    if usia < 10:\n",
    "        uang = 10\n",
    "    elif usia <= 15:\n",
    "        uang = 15\n",
    "    else:\n",
    "        uang = 20\n",
    "\n",
    "    total_uang += uang\n",
    "print(f\"total uang saku yang di berikan dalam satu minggu adalah: ${total_uang}\")"
   ]
  },
  {
   "cell_type": "code",
   "execution_count": 27,
   "id": "d44b58e8-6aa8-4668-b895-55fb84e1c031",
   "metadata": {},
   "outputs": [
    {
     "name": "stdout",
     "output_type": "stream",
     "text": [
      "1 2 Fizz 4 5 Fizz 7 8 Fizz "
     ]
    }
   ],
   "source": [
    "for i in range(1, 10):\n",
    "    if  i%3 == 0:\n",
    "        print(\"Fizz\", end=\" \")\n",
    "    else:\n",
    "        print(i,end=\" \")"
   ]
  },
  {
   "cell_type": "code",
   "execution_count": 29,
   "id": "1d1adb62-3ca8-4e39-8f18-1f0a23ce5d5d",
   "metadata": {},
   "outputs": [
    {
     "name": "stdout",
     "output_type": "stream",
     "text": [
      "1 2 6 24 120 "
     ]
    }
   ],
   "source": [
    "x=1\n",
    "for i in range(5):\n",
    "    x=x*(i+1)\n",
    "    print(x,end=\" \")"
   ]
  },
  {
   "cell_type": "code",
   "execution_count": null,
   "id": "17e7d972-ec23-41d7-b386-cbe3c97ecb4e",
   "metadata": {},
   "outputs": [],
   "source": []
  }
 ],
 "metadata": {
  "kernelspec": {
   "display_name": "Python 3 (ipykernel)",
   "language": "python",
   "name": "python3"
  },
  "language_info": {
   "codemirror_mode": {
    "name": "ipython",
    "version": 3
   },
   "file_extension": ".py",
   "mimetype": "text/x-python",
   "name": "python",
   "nbconvert_exporter": "python",
   "pygments_lexer": "ipython3",
   "version": "3.12.4"
  }
 },
 "nbformat": 4,
 "nbformat_minor": 5
}
